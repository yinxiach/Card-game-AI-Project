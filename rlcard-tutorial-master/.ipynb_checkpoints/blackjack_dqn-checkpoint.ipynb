{
 "cells": [
  {
   "cell_type": "markdown",
   "metadata": {
    "colab_type": "text",
    "id": "view-in-github"
   },
   "source": [
    "<a href=\"https://colab.research.google.com/github/mia1996/rlcard-tutoirial/blob/master/blackjack_dqn.ipynb\" target=\"_parent\"><img src=\"https://colab.research.google.com/assets/colab-badge.svg\" alt=\"Open In Colab\"/></a>"
   ]
  },
  {
   "cell_type": "markdown",
   "metadata": {
    "id": "miBl4S8JARzX"
   },
   "source": [
    "\n",
    "\n",
    "# <a href='https://github.com/datamllab/rlcard'> <center> <img src='https://miro.medium.com/max/1000/1*_9abDpNTM9Cbsd2HEXYm9Q.png' width=500 class='center' /></a> \n",
    "\n",
    "## **Deep-Q Learning on Blackjack**\n",
    "This example is to use Deep-Q learning to train an agent on Blackjack. We aim to use this example to show how reinforcement learning algorithms can be developed and applied in our toolkit. To be self-contained, we first install RLCard."
   ]
  },
  {
   "cell_type": "code",
   "execution_count": 1,
   "metadata": {
    "colab": {
     "base_uri": "https://localhost:8080/"
    },
    "id": "zQ8CiXAJjQGi",
    "outputId": "bda614ff-35d4-4ba3-d171-374c8142af0d",
    "scrolled": true
   },
   "outputs": [
    {
     "name": "stdout",
     "output_type": "stream",
     "text": [
      "Requirement already satisfied: rlcard[torch] in d:\\anaconda\\lib\\site-packages (1.0.9)\n",
      "Requirement already satisfied: numpy>=1.16.3 in c:\\users\\calvi\\appdata\\roaming\\python\\python39\\site-packages (from rlcard[torch]) (1.23.0)\n",
      "Requirement already satisfied: termcolor in c:\\users\\calvi\\appdata\\roaming\\python\\python39\\site-packages (from rlcard[torch]) (1.1.0)\n",
      "Requirement already satisfied: gitdb2 in d:\\anaconda\\lib\\site-packages (from rlcard[torch]) (4.0.2)\n",
      "Requirement already satisfied: torch in d:\\anaconda\\lib\\site-packages (from rlcard[torch]) (1.12.1)\n",
      "Requirement already satisfied: GitPython in d:\\anaconda\\lib\\site-packages (from rlcard[torch]) (3.1.29)\n",
      "Requirement already satisfied: matplotlib in d:\\anaconda\\lib\\site-packages (from rlcard[torch]) (3.5.2)\n",
      "Requirement already satisfied: gitdb>=4.0.1 in d:\\anaconda\\lib\\site-packages (from gitdb2->rlcard[torch]) (4.0.9)\n",
      "Requirement already satisfied: packaging>=20.0 in d:\\anaconda\\lib\\site-packages (from matplotlib->rlcard[torch]) (21.3)\n",
      "Requirement already satisfied: python-dateutil>=2.7 in d:\\anaconda\\lib\\site-packages (from matplotlib->rlcard[torch]) (2.8.2)\n",
      "Requirement already satisfied: pillow>=6.2.0 in d:\\anaconda\\lib\\site-packages (from matplotlib->rlcard[torch]) (9.0.1)\n",
      "Requirement already satisfied: cycler>=0.10 in d:\\anaconda\\lib\\site-packages (from matplotlib->rlcard[torch]) (0.11.0)\n",
      "Requirement already satisfied: kiwisolver>=1.0.1 in d:\\anaconda\\lib\\site-packages (from matplotlib->rlcard[torch]) (1.3.2)\n",
      "Requirement already satisfied: fonttools>=4.22.0 in d:\\anaconda\\lib\\site-packages (from matplotlib->rlcard[torch]) (4.25.0)\n",
      "Requirement already satisfied: pyparsing>=2.2.1 in d:\\anaconda\\lib\\site-packages (from matplotlib->rlcard[torch]) (3.0.4)\n",
      "Requirement already satisfied: typing-extensions in d:\\anaconda\\lib\\site-packages (from torch->rlcard[torch]) (4.1.1)\n",
      "Requirement already satisfied: smmap<6,>=3.0.1 in d:\\anaconda\\lib\\site-packages (from gitdb>=4.0.1->gitdb2->rlcard[torch]) (5.0.0)\n",
      "Requirement already satisfied: six>=1.5 in d:\\anaconda\\lib\\site-packages (from python-dateutil>=2.7->matplotlib->rlcard[torch]) (1.16.0)\n"
     ]
    },
    {
     "name": "stderr",
     "output_type": "stream",
     "text": [
      "\n",
      "[notice] A new release of pip available: 22.2.2 -> 22.3\n",
      "[notice] To update, run: python.exe -m pip install --upgrade pip\n"
     ]
    }
   ],
   "source": [
    "!pip install rlcard[torch]"
   ]
  },
  {
   "cell_type": "markdown",
   "metadata": {
    "id": "2bt-JVoXyTwM"
   },
   "source": [
    "Now we import `rlcard` and `DQNAgent`. The `DQNAgent` will learn how to win the game."
   ]
  },
  {
   "cell_type": "code",
   "execution_count": 9,
   "metadata": {
    "id": "4_A_Br3Jj0xW"
   },
   "outputs": [],
   "source": [
    "import rlcard\n",
    "from rlcard.agents import DQNAgent"
   ]
  },
  {
   "cell_type": "markdown",
   "metadata": {
    "id": "N2ltkfinYmiU"
   },
   "source": [
    "Let's create the Blackjack environment and take a look at it."
   ]
  },
  {
   "cell_type": "code",
   "execution_count": 10,
   "metadata": {
    "colab": {
     "base_uri": "https://localhost:8080/"
    },
    "id": "l_8Kuf47kghG",
    "outputId": "177c5020-2885-465b-9648-40c1ddcd6c06"
   },
   "outputs": [
    {
     "name": "stdout",
     "output_type": "stream",
     "text": [
      "Number of actions: 2\n",
      "Number of players: 1\n",
      "Shape of state: [[2]]\n",
      "Shape of action: [None]\n"
     ]
    }
   ],
   "source": [
    "env = rlcard.make(\"blackjack\")\n",
    "print(\"Number of actions:\", env.num_actions)\n",
    "print(\"Number of players:\", env.num_players)\n",
    "print(\"Shape of state:\", env.state_shape)\n",
    "print(\"Shape of action:\", env.action_shape)"
   ]
  },
  {
   "cell_type": "markdown",
   "metadata": {
    "id": "W2vJYyyqzVj3"
   },
   "source": [
    "Blackjack is a very simple game with only two possible actions. There is only one player. It's time for us to train our DQN to master this game! We first create a DQNAgent."
   ]
  },
  {
   "cell_type": "code",
   "execution_count": 11,
   "metadata": {
    "id": "8bqfMncnJTYU"
   },
   "outputs": [],
   "source": [
    "agent = DQNAgent(\n",
    "    num_actions=env.num_actions,\n",
    "    state_shape=env.state_shape[0],\n",
    "    mlp_layers=[64,64],\n",
    ")"
   ]
  },
  {
   "cell_type": "markdown",
   "metadata": {
    "id": "tJVGcqYhzvyG"
   },
   "source": [
    "Here, we use a 64-64 deep neural network to learn. Then we pass the DQNAgent to the environment."
   ]
  },
  {
   "cell_type": "code",
   "execution_count": 12,
   "metadata": {
    "id": "5JEwJb_Oztut"
   },
   "outputs": [],
   "source": [
    "env.set_agents([agent])"
   ]
  },
  {
   "cell_type": "markdown",
   "metadata": {
    "id": "zy_sHLKf0TVl"
   },
   "source": [
    "Now we are ready to train! We first import some useful classes and functions for training."
   ]
  },
  {
   "cell_type": "code",
   "execution_count": 13,
   "metadata": {
    "id": "GhgGYyick13x"
   },
   "outputs": [],
   "source": [
    "from rlcard.utils import (\n",
    "    tournament,\n",
    "    reorganize,\n",
    "    Logger,\n",
    "    plot_curve,\n",
    ")"
   ]
  },
  {
   "cell_type": "markdown",
   "metadata": {
    "id": "w2bT6ETj04Hq"
   },
   "source": [
    "Then start the training and log the performance with our `Logger`. The script below will train DQN for 1000 epochs (i.e., 1000 games). Usually, the agent will become stronger if trained longer."
   ]
  },
  {
   "cell_type": "code",
   "execution_count": 7,
   "metadata": {
    "colab": {
     "base_uri": "https://localhost:8080/"
    },
    "id": "rYAj8Q22k5e2",
    "outputId": "e43b29b2-553a-4c17-e3b3-166910af9c42"
   },
   "outputs": [
    {
     "name": "stdout",
     "output_type": "stream",
     "text": [
      "\n",
      "----------------------------------------\n",
      "  timestep     |  2\n",
      "  reward       |  -0.1967\n",
      "----------------------------------------\n",
      "\n",
      "----------------------------------------\n",
      "  timestep     |  10162\n",
      "  reward       |  -0.1801\n",
      "----------------------------------------\n",
      "INFO - Step 100, rl-loss: 1.4109554290771484\n",
      "INFO - Copied model parameters to target network.\n",
      "INFO - Step 135, rl-loss: 1.3789329528808594\n",
      "----------------------------------------\n",
      "  timestep     |  20303\n",
      "  reward       |  -0.0638\n",
      "----------------------------------------\n",
      "INFO - Step 203, rl-loss: 0.9862573742866516\n",
      "----------------------------------------\n",
      "  timestep     |  34552\n",
      "  reward       |  -0.4589\n",
      "----------------------------------------\n",
      "INFO - Step 272, rl-loss: 1.0104174613952637\n",
      "----------------------------------------\n",
      "  timestep     |  52250\n",
      "  reward       |  -0.3083\n",
      "----------------------------------------\n",
      "INFO - Step 338, rl-loss: 0.8301895260810852\n",
      "----------------------------------------\n",
      "  timestep     |  69681\n",
      "  reward       |  -0.1897\n",
      "----------------------------------------\n",
      "INFO - Step 414, rl-loss: 1.1292799711227417\n",
      "----------------------------------------\n",
      "  timestep     |  86706\n",
      "  reward       |  -0.1039\n",
      "----------------------------------------\n",
      "INFO - Step 487, rl-loss: 0.9419855475425728\n",
      "----------------------------------------\n",
      "  timestep     |  103307\n",
      "  reward       |  -0.1069\n",
      "----------------------------------------\n",
      "INFO - Step 556, rl-loss: 0.9268839359283447\n",
      "----------------------------------------\n",
      "  timestep     |  120070\n",
      "  reward       |  -0.1281\n",
      "----------------------------------------\n",
      "INFO - Step 629, rl-loss: 1.1504644155502322\n",
      "----------------------------------------\n",
      "  timestep     |  136882\n",
      "  reward       |  -0.122\n",
      "----------------------------------------\n",
      "INFO - Step 704, rl-loss: 0.8755161762237549\n",
      "----------------------------------------\n",
      "  timestep     |  153710\n",
      "  reward       |  -0.0731\n",
      "----------------------------------------\n",
      "INFO - Step 771, rl-loss: 0.9699018597602844\n",
      "----------------------------------------\n",
      "  timestep     |  170246\n",
      "  reward       |  -0.0784\n",
      "----------------------------------------\n",
      "INFO - Step 838, rl-loss: 0.9013717770576477\n",
      "----------------------------------------\n",
      "  timestep     |  186750\n",
      "  reward       |  -0.0865\n",
      "----------------------------------------\n",
      "INFO - Step 912, rl-loss: 0.8877980709075928\n",
      "----------------------------------------\n",
      "  timestep     |  203324\n",
      "  reward       |  -0.1065\n",
      "----------------------------------------\n",
      "INFO - Step 987, rl-loss: 1.1095545291900635\n",
      "----------------------------------------\n",
      "  timestep     |  220138\n",
      "  reward       |  -0.1074\n",
      "----------------------------------------\n",
      "INFO - Step 1054, rl-loss: 1.2832375764846802\n",
      "----------------------------------------\n",
      "  timestep     |  236877\n",
      "  reward       |  -0.1002\n",
      "----------------------------------------\n",
      "INFO - Step 1100, rl-loss: 0.6546604633331299\n",
      "INFO - Copied model parameters to target network.\n",
      "INFO - Step 1123, rl-loss: 0.7757288217544556\n",
      "----------------------------------------\n",
      "  timestep     |  253391\n",
      "  reward       |  -0.0723\n",
      "----------------------------------------\n",
      "INFO - Step 1190, rl-loss: 0.62535476684570315\n",
      "----------------------------------------\n",
      "  timestep     |  269592\n",
      "  reward       |  -0.0667\n",
      "----------------------------------------\n",
      "INFO - Step 1263, rl-loss: 0.54887479543685915\n",
      "----------------------------------------\n",
      "  timestep     |  284550\n",
      "  reward       |  -0.0638\n",
      "----------------------------------------\n",
      "INFO - Step 1326, rl-loss: 0.62005007266998293\n",
      "----------------------------------------\n",
      "  timestep     |  299325\n",
      "  reward       |  -0.0783\n",
      "----------------------------------------\n",
      "INFO - Step 1393, rl-loss: 0.48532265424728394\n",
      "Logs saved in experiments/leduc_holdem_dqn_result/\n"
     ]
    }
   ],
   "source": [
    "with Logger(\"experiments/leduc_holdem_dqn_result/\") as logger:\n",
    "    for episode in range(1):\n",
    "\n",
    "        # Generate data from the environment\n",
    "        trajectories, payoffs = env.run(is_training=True)\n",
    "\n",
    "        print(trajectories)\n",
    "        \n",
    "        # Reorganaize the data to be state, action, reward, next_state, done\n",
    "        trajectories = reorganize(trajectories, payoffs)\n",
    "\n",
    "        # Feed transitions into agent memory, and train the agent\n",
    "        for ts in trajectories[0]:\n",
    "            agent.feed(ts)\n",
    "\n",
    "        # Evaluate the performance.\n",
    "        if episode % 50 == 0:\n",
    "            logger.log_performance(\n",
    "                env.timestep,\n",
    "                tournament(\n",
    "                    env,\n",
    "                    10000,\n",
    "                )[0]\n",
    "            )\n",
    "\n",
    "    # Get the paths\n",
    "    csv_path, fig_path = logger.csv_path, logger.fig_path"
   ]
  },
  {
   "cell_type": "markdown",
   "metadata": {
    "id": "rbIiQS3K2R0u"
   },
   "source": [
    "Now we plot the learning curves to monitor how the agent gets improved!"
   ]
  },
  {
   "cell_type": "code",
   "execution_count": 8,
   "metadata": {
    "colab": {
     "base_uri": "https://localhost:8080/",
     "height": 279
    },
    "id": "06n2QSTDIqb0",
    "outputId": "4536c8af-e4ca-489e-c7fd-4d32c839f81c"
   },
   "outputs": [
    {
     "data": {
      "image/png": "[encoded data removed]",
      "text/plain": [
       "<Figure size 432x288 with 1 Axes>"
      ]
     },
     "metadata": {
      "needs_background": "light"
     },
     "output_type": "display_data"
    }
   ],
   "source": [
    "plot_curve(csv_path, fig_path, \"DQN\")"
   ]
  },
  {
   "cell_type": "markdown",
   "metadata": {
    "id": "rtJ7xdSIaPw3"
   },
   "source": [
    "You can find that the agent achieves an increasingly better performance with more training. All the logs and the model weights are saved in `experiments/leduc_holdem_dqn_result/`. Now you have your trained DQN agent on Blackjack!"
   ]
  }
 ],
 "metadata": {
  "colab": {
   "collapsed_sections": [],
   "include_colab_link": true,
   "name": "Copy of blackjack_dqn.ipynb",
   "provenance": []
  },
  "kernelspec": {
   "display_name": "Python 3 (ipykernel)",
   "language": "python",
   "name": "python3"
  },
  "language_info": {
   "codemirror_mode": {
    "name": "ipython",
    "version": 3
   },
   "file_extension": ".py",
   "mimetype": "text/x-python",
   "name": "python",
   "nbconvert_exporter": "python",
   "pygments_lexer": "ipython3",
   "version": "3.9.12"
  }
 },
 "nbformat": 4,
 "nbformat_minor": 1
}
