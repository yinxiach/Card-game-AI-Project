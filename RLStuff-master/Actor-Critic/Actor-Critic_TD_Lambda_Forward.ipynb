{
 "cells": [
  {
   "cell_type": "code",
   "execution_count": 8,
   "metadata": {
    "id": "zedRx3is0ESX"
   },
   "outputs": [],
   "source": [
    "import torch\n",
    "import torch.nn as nn\n",
    "import torch.nn.functional as F\n",
    "import torch.optim as optim\n",
    "from torch.distributions import Categorical\n",
    "\n",
    "import gym\n",
    "from tqdm import tqdm_notebook\n",
    "import numpy as np\n",
    "from collections import deque\n"
   ]
  },
  {
   "cell_type": "code",
   "execution_count": 9,
   "metadata": {
    "id": "7518ZmE90ESX"
   },
   "outputs": [],
   "source": [
    "#discount factor for future utilities\n",
    "DISCOUNT_FACTOR = 0.99\n",
    "\n",
    "#number of episodes to run\n",
    "NUM_EPISODES = 1000\n",
    "\n",
    "#max steps per episode\n",
    "MAX_STEPS = 10000\n",
    "\n",
    "#device to run model on \n",
    "DEVICE = \"cuda\" if torch.cuda.is_available() else \"cpu\"\n",
    "\n",
    "#score agent needs for environment to be solved\n",
    "SOLVED_SCORE = 195\n",
    "\n",
    "#decay constant for critic\n",
    "CRITIC_LAMBDA = 0.8"
   ]
  },
  {
   "cell_type": "code",
   "execution_count": 10,
   "metadata": {
    "id": "dvdb9MJY0ESY"
   },
   "outputs": [],
   "source": [
    "#Using a neural network to learn our policy parameters\n",
    "class PolicyNetwork(nn.Module):\n",
    "    \n",
    "    #Takes in observations and outputs actions\n",
    "    def __init__(self, observation_space, action_space):\n",
    "        super(PolicyNetwork, self).__init__()\n",
    "        self.input_layer = nn.Linear(observation_space, 128)\n",
    "        self.output_layer = nn.Linear(128, action_space)\n",
    "    \n",
    "    #forward pass\n",
    "    def forward(self, x):\n",
    "        #input states\n",
    "        x = self.input_layer(x)\n",
    "        \n",
    "        #relu activation\n",
    "        x = F.relu(x)\n",
    "        \n",
    "        #actions\n",
    "        actions = self.output_layer(x)\n",
    "        \n",
    "        #get softmax for a probability distribution\n",
    "        action_probs = F.softmax(actions, dim=1)\n",
    "        \n",
    "        return action_probs"
   ]
  },
  {
   "cell_type": "code",
   "execution_count": 11,
   "metadata": {
    "id": "lfku8e2-0ESY"
   },
   "outputs": [],
   "source": [
    "#Using a neural network to learn state value\n",
    "class StateValueNetwork(nn.Module):\n",
    "    \n",
    "    #Takes in state\n",
    "    def __init__(self, observation_space):\n",
    "        super(StateValueNetwork, self).__init__()\n",
    "        \n",
    "        self.input_layer = nn.Linear(observation_space, 128)\n",
    "        self.output_layer = nn.Linear(128, 1)\n",
    "        \n",
    "    def forward(self, x):\n",
    "        #input layer\n",
    "        x = self.input_layer(x)\n",
    "        \n",
    "        #activiation relu\n",
    "        x = F.relu(x)\n",
    "        \n",
    "        #get state value\n",
    "        state_value = self.output_layer(x)\n",
    "        \n",
    "        return state_value"
   ]
  },
  {
   "cell_type": "code",
   "execution_count": 12,
   "metadata": {
    "id": "FDvfMBKy0ESY"
   },
   "outputs": [],
   "source": [
    "def select_action(network, state):\n",
    "    ''' Selects an action given current state\n",
    "    Args:\n",
    "    - network (Torch NN): network to process state\n",
    "    - state (Array): Array of action space in an environment\n",
    "    \n",
    "    Return:\n",
    "    - (int): action that is selected\n",
    "    - (float): log probability of selecting that action given state and network\n",
    "    '''\n",
    "    \n",
    "    #convert state to float tensor, add 1 dimension, allocate tensor on device\n",
    "    state = torch.from_numpy(state).float().unsqueeze(0).to(DEVICE)\n",
    "    \n",
    "    #use network to predict action probabilities\n",
    "    action_probs = network(state)\n",
    "    state = state.detach()\n",
    "    \n",
    "    #sample an action using the probability distribution\n",
    "    m = Categorical(action_probs)\n",
    "    action = m.sample()\n",
    "    \n",
    "    #return action\n",
    "    return action.item(), m.log_prob(action)"
   ]
  },
  {
   "cell_type": "code",
   "execution_count": 42,
   "metadata": {
    "id": "sOsqeZwR0ESZ"
   },
   "outputs": [],
   "source": [
    "def process_rewards(rewards, state_vals, decay):\n",
    "    ''' Processes rewards and statevals into lambda returns\n",
    "    Args:\n",
    "    - rewards (Array): Array of rewards with index as timestep\n",
    "    - state_vals (Array): Array of state values with index as timestep\n",
    "    - decay (Float): lambda constant, decay rate of weights\n",
    "    \n",
    "    Return:\n",
    "    G (Array): array of lambda returns with index as timestep\n",
    "    '''\n",
    "\n",
    "    #length of episode\n",
    "    episode_length = len(rewards)\n",
    "    \n",
    "    #get weights for all N-steps for each timestep\n",
    "    episode_weights = get_weights(episode_length, decay)\n",
    "    episode_weights = [np.array(x) for x in episode_weights]\n",
    "\n",
    "    #get returns for all N-steps for each timestep\n",
    "    episode_returns = get_Nstep_returns(rewards, state_vals)\n",
    "    episode_returns = [np.array(x) for x in episode_returns]\n",
    "\n",
    "    #multiple returns by weights and sum up all weighted returns for each timestep\n",
    "    #G is lambda returns with index as timestep. The sum of all N-step weights at each timestep should be 1.\n",
    "    G = [sum(weights * nsteps) for weights, nsteps in zip(episode_weights, episode_returns)]\n",
    "\n",
    "    #whitening rewards to prevent gradient explosion and decrease variance\n",
    "    G = torch.tensor(G).float().to(DEVICE)\n",
    "    G = (G - G.mean())/G.std()\n",
    "\n",
    "    return G\n",
    "\n"
   ]
  },
  {
   "cell_type": "code",
   "execution_count": 44,
   "metadata": {
    "id": "IoQ5AmBDVjKG"
   },
   "outputs": [],
   "source": [
    "def get_Nstep_returns(rewards, state_vals):\n",
    "    ''' Get N-step returns for each timestep\n",
    "    Args:\n",
    "    - rewards (Array): Array of rewards with index as timestep\n",
    "    - state_vals (Array): Array of state values with index as timestep\n",
    "    \n",
    "    Return:\n",
    "    episode_returns (Array): array of N-step returns with index as timestep\n",
    "    '''\n",
    "    \n",
    "    #episode length\n",
    "    episode_length = len(rewards)\n",
    "\n",
    "    #store episode returns\n",
    "    episode_returns = []\n",
    "\n",
    "    #iterate through each timestep\n",
    "    for t in range(episode_length):\n",
    "        \n",
    "        #store nstep returns for a timestep\n",
    "        nstep_returns = []\n",
    "\n",
    "        #iterate from timestep to end of episode\n",
    "        for i in range(t, episode_length):\n",
    "            \n",
    "            #discounted cumulative reward for N-steps\n",
    "            nstep_return = 0\n",
    "            \n",
    "            #iterate from timestep to i, calculate (i - timestep)-step return\n",
    "            for j in range(t, i+1):\n",
    "\n",
    "                #if on Nth step and its not the terminal state, use bootstrapped return\n",
    "                if j == i and j != episode_length - 1:\n",
    "                    nstep_return += state_vals[j].item() * DISCOUNT_FACTOR ** (i-t)\n",
    "                    \n",
    "                #else use discounted reward\n",
    "                else:\n",
    "                    nstep_return += rewards[j] * DISCOUNT_FACTOR ** (i-t)\n",
    "            \n",
    "            #append nstep return\n",
    "            nstep_returns.append(nstep_return)\n",
    "            \n",
    "        #append nstep returns\n",
    "        episode_returns.append(nstep_returns)\n",
    "    \n",
    "    return episode_returns\n",
    "\n"
   ]
  },
  {
   "cell_type": "code",
   "execution_count": 43,
   "metadata": {
    "id": "OCvV2NIivOhR"
   },
   "outputs": [],
   "source": [
    "def get_weights(episode_length, decay):\n",
    "    '''Get weights for all N-steps in each timestep\n",
    "    Args:\n",
    "    - episode_length (int): length of episode\n",
    "    - decay (float): lambda constant, decay rate of weights\n",
    "    \n",
    "    Returns:\n",
    "    - episode_weights (Array): weights for all N-steps at each timestep with index as timestep\n",
    "    '''\n",
    "\n",
    "    #store weights for each timestep\n",
    "    episode_weights = []\n",
    "\n",
    "    #iterate through each timestep in episode\n",
    "    for t in range(episode_length):\n",
    "    #weights for different Ns for current timestep\n",
    "        weights = []\n",
    "\n",
    "        #iterate from current timestep until end\n",
    "        for i in range(t, episode_length):\n",
    "\n",
    "            #if at terminal state\n",
    "            if i == episode_length - 1:\n",
    "                #append weight. Note that we are doing ep_len - t instead of ep_len - t - 1 since the loop is 0-indexed\n",
    "                weights.append(decay**(episode_length - t - 1))\n",
    "            else:\n",
    "                #append weight\n",
    "                weights.append((1-decay) * decay**(i-t))\n",
    "\n",
    "        #append weights\n",
    "        episode_weights.append(weights)\n",
    "    \n",
    "    return episode_weights"
   ]
  },
  {
   "cell_type": "code",
   "execution_count": 16,
   "metadata": {
    "id": "r9aj2VYR0ESZ"
   },
   "outputs": [],
   "source": [
    "def train_policy(deltas, log_probs, optimizer):\n",
    "    ''' Update policy parameters\n",
    "    Args:\n",
    "    - deltas (Array): difference between predicted stateval and actual stateval (Gt)\n",
    "    - log_probs (Array): trajectory of log probabilities of action taken\n",
    "    - optimizer (Pytorch optimizer): optimizer to update policy network parameters\n",
    "    '''\n",
    "    \n",
    "    #store updates\n",
    "    policy_loss = []\n",
    "    \n",
    "    #calculate loss to be backpropagated\n",
    "    for d, lp in zip(deltas, log_probs):\n",
    "        #add negative sign since we are performing gradient ascent\n",
    "        policy_loss.append(-d * lp)\n",
    "    \n",
    "    #Backpropagation\n",
    "    optimizer.zero_grad()\n",
    "    sum(policy_loss).backward()\n",
    "    optimizer.step()"
   ]
  },
  {
   "cell_type": "code",
   "execution_count": 17,
   "metadata": {
    "id": "Ovn8WBOi0ESZ"
   },
   "outputs": [],
   "source": [
    "def train_value(G, state_vals, optimizer):\n",
    "    ''' Update state-value network parameters\n",
    "    Args:\n",
    "    - G (Array): trajectory of cumulative discounted rewards \n",
    "    - state_vals (Array): trajectory of predicted state-value at each step\n",
    "    - optimizer (Pytorch optimizer): optimizer to update state-value network parameters\n",
    "    '''\n",
    "    \n",
    "    #calculate MSE loss\n",
    "    val_loss = F.mse_loss(state_vals, G)\n",
    "        \n",
    "    #Backpropagate\n",
    "    optimizer.zero_grad()\n",
    "    val_loss.backward()\n",
    "    optimizer.step()"
   ]
  },
  {
   "cell_type": "code",
   "execution_count": 62,
   "metadata": {
    "id": "48gz4UQ60ESZ"
   },
   "outputs": [],
   "source": [
    "#Make environment\n",
    "env = gym.make('CartPole-v1')\n",
    "\n",
    "#Init network\n",
    "policy_network = PolicyNetwork(env.observation_space.shape[0], env.action_space.n).to(DEVICE)\n",
    "stateval_network = StateValueNetwork(env.observation_space.shape[0]).to(DEVICE)\n",
    "\n",
    "\n",
    "#Init optimizer\n",
    "policy_optimizer = optim.Adam(policy_network.parameters(), lr=1e-2)\n",
    "stateval_optimizer = optim.Adam(stateval_network.parameters(), lr=1e-2)"
   ]
  },
  {
   "cell_type": "code",
   "execution_count": 63,
   "metadata": {
    "colab": {
     "base_uri": "https://localhost:8080/",
     "height": 474,
     "referenced_widgets": [
      "fffd7e5bf656434c806b7b38b68d9e52",
      "d6a9e52195b04a7293afdc2833c89b1b",
      "ade0f52b100d4ac5954fdea323647f00",
      "1b0e93c1de6c461992111f6b73cff470",
      "c0cb136209c54e64af3d1832aaa32896",
      "daf524d72719426c802a7d2befddea15",
      "d0da6d96639b41d7acc4163835a06835",
      "30e1daa317954ff39e1a4aa86704ba41"
     ]
    },
    "id": "bpwcBEuu0ESa",
    "outputId": "fe0d3cf3-61e3-4030-dd7c-fef9f53d372c",
    "scrolled": false
   },
   "outputs": [
    {
     "data": {
      "application/vnd.jupyter.widget-view+json": {
       "model_id": "cbb2f56df99f4e3dab59eb0f25f99776",
       "version_major": 2,
       "version_minor": 0
      },
      "text/plain": [
       "HBox(children=(IntProgress(value=0, max=1000), HTML(value='')))"
      ]
     },
     "metadata": {},
     "output_type": "display_data"
    }
   ],
   "source": [
    "#track scores\n",
    "scores = []\n",
    "\n",
    "#recent 100 scores\n",
    "recent_scores = deque(maxlen=100)\n",
    "\n",
    "#iterate through episodes\n",
    "for episode in tqdm_notebook(range(NUM_EPISODES)):\n",
    "    \n",
    "    #reset environment, initiable variables\n",
    "    state = env.reset()\n",
    "    trajectory = []\n",
    "    score = 0\n",
    "    \n",
    "    #generate episode\n",
    "    for step in range(MAX_STEPS):\n",
    "        #env.render()\n",
    "        \n",
    "        #select action\n",
    "        action, lp = select_action(policy_network, state)\n",
    "        \n",
    "        #execute action\n",
    "        new_state, reward, done, _ = env.step(action)\n",
    "        \n",
    "        #track episode score\n",
    "        score += reward\n",
    "        \n",
    "        #store into trajectory\n",
    "        trajectory.append([state, action, reward, lp])\n",
    "        \n",
    "        #end episode\n",
    "        if done:\n",
    "            break\n",
    "        \n",
    "        #move into new state\n",
    "        state = new_state\n",
    "    \n",
    "    #append score\n",
    "    scores.append(score)\n",
    "    recent_scores.append(score)\n",
    "\n",
    "    #early stopping if we meet solved score goal\n",
    "    if np.array(recent_scores).mean() >= SOLVED_SCORE:\n",
    "        break\n",
    "\n",
    "    \n",
    "    #get items from trajectory\n",
    "    states = [step[0] for step in trajectory]\n",
    "    actions = [step[1] for step in trajectory]\n",
    "    rewards = [step[2] for step in trajectory]\n",
    "    lps = [step[3] for step in trajectory]\n",
    "\n",
    "    #calculate state values\n",
    "    state_vals = []\n",
    "    for state in states:\n",
    "        state = torch.from_numpy(state).float().unsqueeze(0).to(DEVICE)\n",
    "        state.required_grad = True\n",
    "        state_vals.append(stateval_network(state))\n",
    "    \n",
    "    #get lambda returns for each timestep\n",
    "    #we use this lambda returns for critic and actor so CRITIC_LAMBDA is used for both\n",
    "    G = process_rewards(rewards, state_vals, CRITIC_LAMBDA)\n",
    "\n",
    "    state_vals = torch.stack(state_vals).squeeze()\n",
    "    \n",
    "    train_value(G, state_vals, stateval_optimizer)\n",
    "        \n",
    "    #calculate TD lambda for actor\n",
    "    deltas = [gt - val for gt, val in zip(G, state_vals)]\n",
    "    deltas = torch.tensor(deltas).to(DEVICE)\n",
    "    \n",
    "    train_policy(deltas, lps, policy_optimizer)\n",
    "    \n",
    "\n",
    "env.close()"
   ]
  },
  {
   "cell_type": "markdown",
   "metadata": {
    "id": "PzufatYK0ESa"
   },
   "source": [
    "#### Plotting training score:"
   ]
  },
  {
   "cell_type": "code",
   "execution_count": 64,
   "metadata": {
    "colab": {
     "base_uri": "https://localhost:8080/",
     "height": 301
    },
    "id": "y3lUAo330ESb",
    "outputId": "7d37b852-05d8-446d-b3c1-55b91ce00ecc",
    "scrolled": true
   },
   "outputs": [
    {
     "data": {
      "image/png": "[encoded data removed]",
      "text/plain": [
       "<Figure size 432x288 with 1 Axes>"
      ]
     },
     "metadata": {},
     "output_type": "display_data"
    }
   ],
   "source": [
    "import matplotlib.pyplot as plt\n",
    "from sklearn.linear_model import LinearRegression\n",
    "import seaborn as sns\n",
    "import numpy as np\n",
    "\n",
    "sns.set()\n",
    "\n",
    "plt.plot(scores)\n",
    "plt.ylabel('score')\n",
    "plt.xlabel('episodes')\n",
    "plt.title('Training score of CartPole with Forward-view TD(λ)')\n",
    "\n",
    "reg = LinearRegression().fit(np.arange(len(scores)).reshape(-1, 1), np.array(scores).reshape(-1, 1))\n",
    "y_pred = reg.predict(np.arange(len(scores)).reshape(-1, 1))\n",
    "plt.plot(y_pred)\n",
    "plt.show()"
   ]
  },
  {
   "cell_type": "markdown",
   "metadata": {
    "id": "JlXzkSVd0ESb"
   },
   "source": [
    "#### Random Policy:"
   ]
  },
  {
   "cell_type": "code",
   "execution_count": null,
   "metadata": {
    "id": "fNbuq3yz0ESb"
   },
   "outputs": [],
   "source": [
    "done = False\n",
    "state = env.reset()\n",
    "scores = []\n",
    "\n",
    "for _ in range(10):\n",
    "    state = env.reset()\n",
    "    done = False\n",
    "    score = 0\n",
    "    while not done:\n",
    "        env.render()\n",
    "        action = env.action_space.sample()\n",
    "        new_state, reward, done, info = env.step(action)\n",
    "        score += reward\n",
    "        state = new_state\n",
    "    scores.append(score)\n",
    "env.close()"
   ]
  },
  {
   "cell_type": "markdown",
   "metadata": {
    "id": "Kg-m3ovG0ESb"
   },
   "source": [
    "#### Trying Policy:"
   ]
  },
  {
   "cell_type": "code",
   "execution_count": 65,
   "metadata": {
    "colab": {
     "base_uri": "https://localhost:8080/",
     "height": 120,
     "referenced_widgets": [
      "b94899bf1352470e9f35ddb3d9dc67cf",
      "f323d3ef9b924f989dffb84d72bd58d4",
      "e9585227e9cd482c949c252f38db7ecb",
      "98a1b6896ae74a9dbb0d78e9348b929a",
      "afecba2b84614bf8a17f6cfc22419237",
      "b81ca01956bc4084912e9c681e12bd72",
      "4f8cfcded6e449acb1deaee5efa50e41",
      "90e20d9aefc3451ebcf9b721d88b2883"
     ]
    },
    "id": "9OTJrPh00ESc",
    "outputId": "36a3e744-77fa-403f-bf12-29e6f593def8",
    "scrolled": true
   },
   "outputs": [
    {
     "data": {
      "application/vnd.jupyter.widget-view+json": {
       "model_id": "e4086e89b74d417385e1df07496d524d",
       "version_major": 2,
       "version_minor": 0
      },
      "text/plain": [
       "HBox(children=(IntProgress(value=0, max=50), HTML(value='')))"
      ]
     },
     "metadata": {},
     "output_type": "display_data"
    },
    {
     "name": "stdout",
     "output_type": "stream",
     "text": [
      "\n"
     ]
    }
   ],
   "source": [
    "done = False\n",
    "state = env.reset()\n",
    "scores = []\n",
    "\n",
    "for _ in tqdm_notebook(range(50)):\n",
    "    state = env.reset()\n",
    "    done = False\n",
    "    score = 0\n",
    "    while not done:\n",
    "        #env.render()\n",
    "        action, lp = select_action(policy_network, state)\n",
    "        new_state, reward, done, info = env.step(action)\n",
    "        score += reward\n",
    "        state = new_state\n",
    "    scores.append(score)"
   ]
  },
  {
   "cell_type": "code",
   "execution_count": 66,
   "metadata": {
    "colab": {
     "base_uri": "https://localhost:8080/"
    },
    "id": "EAN5RB3d0ESc",
    "outputId": "9516acd2-08f9-47db-ff98-fb2a603fef1d",
    "scrolled": true
   },
   "outputs": [
    {
     "data": {
      "text/plain": [
       "499.56"
      ]
     },
     "execution_count": 66,
     "metadata": {},
     "output_type": "execute_result"
    }
   ],
   "source": [
    "np.array(scores).mean()"
   ]
  },
  {
   "cell_type": "code",
   "execution_count": 29,
   "metadata": {
    "id": "_5itlPCl0ESc"
   },
   "outputs": [],
   "source": [
    "env.close()"
   ]
  },
  {
   "cell_type": "code",
   "execution_count": null,
   "metadata": {
    "id": "4Ke3gyG60ESc"
   },
   "outputs": [],
   "source": []
  }
 ],
 "metadata": {
  "accelerator": "GPU",
  "colab": {
   "name": "Actor-Critic_TD_Lambda_Forward.ipynb",
   "provenance": []
  },
  "kernelspec": {
   "display_name": "Python 3",
   "language": "python",
   "name": "python3"
  },
  "language_info": {
   "codemirror_mode": {
    "name": "ipython",
    "version": 3
   },
   "file_extension": ".py",
   "mimetype": "text/x-python",
   "name": "python",
   "nbconvert_exporter": "python",
   "pygments_lexer": "ipython3",
   "version": "3.7.4"
  },
  "widgets": {
   "application/vnd.jupyter.widget-state+json": {
    "1b0e93c1de6c461992111f6b73cff470": {
     "model_module": "@jupyter-widgets/controls",
     "model_name": "HTMLModel",
     "state": {
      "_dom_classes": [],
      "_model_module": "@jupyter-widgets/controls",
      "_model_module_version": "1.5.0",
      "_model_name": "HTMLModel",
      "_view_count": null,
      "_view_module": "@jupyter-widgets/controls",
      "_view_module_version": "1.5.0",
      "_view_name": "HTMLView",
      "description": "",
      "description_tooltip": null,
      "layout": "IPY_MODEL_30e1daa317954ff39e1a4aa86704ba41",
      "placeholder": "​",
      "style": "IPY_MODEL_d0da6d96639b41d7acc4163835a06835",
      "value": " 93/1000 [00:40&lt;1:09:58,  4.63s/it]"
     }
    },
    "30e1daa317954ff39e1a4aa86704ba41": {
     "model_module": "@jupyter-widgets/base",
     "model_name": "LayoutModel",
     "state": {
      "_model_module": "@jupyter-widgets/base",
      "_model_module_version": "1.2.0",
      "_model_name": "LayoutModel",
      "_view_count": null,
      "_view_module": "@jupyter-widgets/base",
      "_view_module_version": "1.2.0",
      "_view_name": "LayoutView",
      "align_content": null,
      "align_items": null,
      "align_self": null,
      "border": null,
      "bottom": null,
      "display": null,
      "flex": null,
      "flex_flow": null,
      "grid_area": null,
      "grid_auto_columns": null,
      "grid_auto_flow": null,
      "grid_auto_rows": null,
      "grid_column": null,
      "grid_gap": null,
      "grid_row": null,
      "grid_template_areas": null,
      "grid_template_columns": null,
      "grid_template_rows": null,
      "height": null,
      "justify_content": null,
      "justify_items": null,
      "left": null,
      "margin": null,
      "max_height": null,
      "max_width": null,
      "min_height": null,
      "min_width": null,
      "object_fit": null,
      "object_position": null,
      "order": null,
      "overflow": null,
      "overflow_x": null,
      "overflow_y": null,
      "padding": null,
      "right": null,
      "top": null,
      "visibility": null,
      "width": null
     }
    },
    "4f8cfcded6e449acb1deaee5efa50e41": {
     "model_module": "@jupyter-widgets/controls",
     "model_name": "DescriptionStyleModel",
     "state": {
      "_model_module": "@jupyter-widgets/controls",
      "_model_module_version": "1.5.0",
      "_model_name": "DescriptionStyleModel",
      "_view_count": null,
      "_view_module": "@jupyter-widgets/base",
      "_view_module_version": "1.2.0",
      "_view_name": "StyleView",
      "description_width": ""
     }
    },
    "90e20d9aefc3451ebcf9b721d88b2883": {
     "model_module": "@jupyter-widgets/base",
     "model_name": "LayoutModel",
     "state": {
      "_model_module": "@jupyter-widgets/base",
      "_model_module_version": "1.2.0",
      "_model_name": "LayoutModel",
      "_view_count": null,
      "_view_module": "@jupyter-widgets/base",
      "_view_module_version": "1.2.0",
      "_view_name": "LayoutView",
      "align_content": null,
      "align_items": null,
      "align_self": null,
      "border": null,
      "bottom": null,
      "display": null,
      "flex": null,
      "flex_flow": null,
      "grid_area": null,
      "grid_auto_columns": null,
      "grid_auto_flow": null,
      "grid_auto_rows": null,
      "grid_column": null,
      "grid_gap": null,
      "grid_row": null,
      "grid_template_areas": null,
      "grid_template_columns": null,
      "grid_template_rows": null,
      "height": null,
      "justify_content": null,
      "justify_items": null,
      "left": null,
      "margin": null,
      "max_height": null,
      "max_width": null,
      "min_height": null,
      "min_width": null,
      "object_fit": null,
      "object_position": null,
      "order": null,
      "overflow": null,
      "overflow_x": null,
      "overflow_y": null,
      "padding": null,
      "right": null,
      "top": null,
      "visibility": null,
      "width": null
     }
    },
    "98a1b6896ae74a9dbb0d78e9348b929a": {
     "model_module": "@jupyter-widgets/controls",
     "model_name": "HTMLModel",
     "state": {
      "_dom_classes": [],
      "_model_module": "@jupyter-widgets/controls",
      "_model_module_version": "1.5.0",
      "_model_name": "HTMLModel",
      "_view_count": null,
      "_view_module": "@jupyter-widgets/controls",
      "_view_module_version": "1.5.0",
      "_view_name": "HTMLView",
      "description": "",
      "description_tooltip": null,
      "layout": "IPY_MODEL_90e20d9aefc3451ebcf9b721d88b2883",
      "placeholder": "​",
      "style": "IPY_MODEL_4f8cfcded6e449acb1deaee5efa50e41",
      "value": " 50/50 [00:18&lt;00:00,  2.74it/s]"
     }
    },
    "ade0f52b100d4ac5954fdea323647f00": {
     "model_module": "@jupyter-widgets/controls",
     "model_name": "FloatProgressModel",
     "state": {
      "_dom_classes": [],
      "_model_module": "@jupyter-widgets/controls",
      "_model_module_version": "1.5.0",
      "_model_name": "FloatProgressModel",
      "_view_count": null,
      "_view_module": "@jupyter-widgets/controls",
      "_view_module_version": "1.5.0",
      "_view_name": "ProgressView",
      "bar_style": "danger",
      "description": "  9%",
      "description_tooltip": null,
      "layout": "IPY_MODEL_daf524d72719426c802a7d2befddea15",
      "max": 1000,
      "min": 0,
      "orientation": "horizontal",
      "style": "IPY_MODEL_c0cb136209c54e64af3d1832aaa32896",
      "value": 93
     }
    },
    "afecba2b84614bf8a17f6cfc22419237": {
     "model_module": "@jupyter-widgets/controls",
     "model_name": "ProgressStyleModel",
     "state": {
      "_model_module": "@jupyter-widgets/controls",
      "_model_module_version": "1.5.0",
      "_model_name": "ProgressStyleModel",
      "_view_count": null,
      "_view_module": "@jupyter-widgets/base",
      "_view_module_version": "1.2.0",
      "_view_name": "StyleView",
      "bar_color": null,
      "description_width": "initial"
     }
    },
    "b81ca01956bc4084912e9c681e12bd72": {
     "model_module": "@jupyter-widgets/base",
     "model_name": "LayoutModel",
     "state": {
      "_model_module": "@jupyter-widgets/base",
      "_model_module_version": "1.2.0",
      "_model_name": "LayoutModel",
      "_view_count": null,
      "_view_module": "@jupyter-widgets/base",
      "_view_module_version": "1.2.0",
      "_view_name": "LayoutView",
      "align_content": null,
      "align_items": null,
      "align_self": null,
      "border": null,
      "bottom": null,
      "display": null,
      "flex": null,
      "flex_flow": null,
      "grid_area": null,
      "grid_auto_columns": null,
      "grid_auto_flow": null,
      "grid_auto_rows": null,
      "grid_column": null,
      "grid_gap": null,
      "grid_row": null,
      "grid_template_areas": null,
      "grid_template_columns": null,
      "grid_template_rows": null,
      "height": null,
      "justify_content": null,
      "justify_items": null,
      "left": null,
      "margin": null,
      "max_height": null,
      "max_width": null,
      "min_height": null,
      "min_width": null,
      "object_fit": null,
      "object_position": null,
      "order": null,
      "overflow": null,
      "overflow_x": null,
      "overflow_y": null,
      "padding": null,
      "right": null,
      "top": null,
      "visibility": null,
      "width": null
     }
    },
    "b94899bf1352470e9f35ddb3d9dc67cf": {
     "model_module": "@jupyter-widgets/controls",
     "model_name": "HBoxModel",
     "state": {
      "_dom_classes": [],
      "_model_module": "@jupyter-widgets/controls",
      "_model_module_version": "1.5.0",
      "_model_name": "HBoxModel",
      "_view_count": null,
      "_view_module": "@jupyter-widgets/controls",
      "_view_module_version": "1.5.0",
      "_view_name": "HBoxView",
      "box_style": "",
      "children": [
       "IPY_MODEL_e9585227e9cd482c949c252f38db7ecb",
       "IPY_MODEL_98a1b6896ae74a9dbb0d78e9348b929a"
      ],
      "layout": "IPY_MODEL_f323d3ef9b924f989dffb84d72bd58d4"
     }
    },
    "c0cb136209c54e64af3d1832aaa32896": {
     "model_module": "@jupyter-widgets/controls",
     "model_name": "ProgressStyleModel",
     "state": {
      "_model_module": "@jupyter-widgets/controls",
      "_model_module_version": "1.5.0",
      "_model_name": "ProgressStyleModel",
      "_view_count": null,
      "_view_module": "@jupyter-widgets/base",
      "_view_module_version": "1.2.0",
      "_view_name": "StyleView",
      "bar_color": null,
      "description_width": "initial"
     }
    },
    "d0da6d96639b41d7acc4163835a06835": {
     "model_module": "@jupyter-widgets/controls",
     "model_name": "DescriptionStyleModel",
     "state": {
      "_model_module": "@jupyter-widgets/controls",
      "_model_module_version": "1.5.0",
      "_model_name": "DescriptionStyleModel",
      "_view_count": null,
      "_view_module": "@jupyter-widgets/base",
      "_view_module_version": "1.2.0",
      "_view_name": "StyleView",
      "description_width": ""
     }
    },
    "d6a9e52195b04a7293afdc2833c89b1b": {
     "model_module": "@jupyter-widgets/base",
     "model_name": "LayoutModel",
     "state": {
      "_model_module": "@jupyter-widgets/base",
      "_model_module_version": "1.2.0",
      "_model_name": "LayoutModel",
      "_view_count": null,
      "_view_module": "@jupyter-widgets/base",
      "_view_module_version": "1.2.0",
      "_view_name": "LayoutView",
      "align_content": null,
      "align_items": null,
      "align_self": null,
      "border": null,
      "bottom": null,
      "display": null,
      "flex": null,
      "flex_flow": null,
      "grid_area": null,
      "grid_auto_columns": null,
      "grid_auto_flow": null,
      "grid_auto_rows": null,
      "grid_column": null,
      "grid_gap": null,
      "grid_row": null,
      "grid_template_areas": null,
      "grid_template_columns": null,
      "grid_template_rows": null,
      "height": null,
      "justify_content": null,
      "justify_items": null,
      "left": null,
      "margin": null,
      "max_height": null,
      "max_width": null,
      "min_height": null,
      "min_width": null,
      "object_fit": null,
      "object_position": null,
      "order": null,
      "overflow": null,
      "overflow_x": null,
      "overflow_y": null,
      "padding": null,
      "right": null,
      "top": null,
      "visibility": null,
      "width": null
     }
    },
    "daf524d72719426c802a7d2befddea15": {
     "model_module": "@jupyter-widgets/base",
     "model_name": "LayoutModel",
     "state": {
      "_model_module": "@jupyter-widgets/base",
      "_model_module_version": "1.2.0",
      "_model_name": "LayoutModel",
      "_view_count": null,
      "_view_module": "@jupyter-widgets/base",
      "_view_module_version": "1.2.0",
      "_view_name": "LayoutView",
      "align_content": null,
      "align_items": null,
      "align_self": null,
      "border": null,
      "bottom": null,
      "display": null,
      "flex": null,
      "flex_flow": null,
      "grid_area": null,
      "grid_auto_columns": null,
      "grid_auto_flow": null,
      "grid_auto_rows": null,
      "grid_column": null,
      "grid_gap": null,
      "grid_row": null,
      "grid_template_areas": null,
      "grid_template_columns": null,
      "grid_template_rows": null,
      "height": null,
      "justify_content": null,
      "justify_items": null,
      "left": null,
      "margin": null,
      "max_height": null,
      "max_width": null,
      "min_height": null,
      "min_width": null,
      "object_fit": null,
      "object_position": null,
      "order": null,
      "overflow": null,
      "overflow_x": null,
      "overflow_y": null,
      "padding": null,
      "right": null,
      "top": null,
      "visibility": null,
      "width": null
     }
    },
    "e9585227e9cd482c949c252f38db7ecb": {
     "model_module": "@jupyter-widgets/controls",
     "model_name": "FloatProgressModel",
     "state": {
      "_dom_classes": [],
      "_model_module": "@jupyter-widgets/controls",
      "_model_module_version": "1.5.0",
      "_model_name": "FloatProgressModel",
      "_view_count": null,
      "_view_module": "@jupyter-widgets/controls",
      "_view_module_version": "1.5.0",
      "_view_name": "ProgressView",
      "bar_style": "success",
      "description": "100%",
      "description_tooltip": null,
      "layout": "IPY_MODEL_b81ca01956bc4084912e9c681e12bd72",
      "max": 50,
      "min": 0,
      "orientation": "horizontal",
      "style": "IPY_MODEL_afecba2b84614bf8a17f6cfc22419237",
      "value": 50
     }
    },
    "f323d3ef9b924f989dffb84d72bd58d4": {
     "model_module": "@jupyter-widgets/base",
     "model_name": "LayoutModel",
     "state": {
      "_model_module": "@jupyter-widgets/base",
      "_model_module_version": "1.2.0",
      "_model_name": "LayoutModel",
      "_view_count": null,
      "_view_module": "@jupyter-widgets/base",
      "_view_module_version": "1.2.0",
      "_view_name": "LayoutView",
      "align_content": null,
      "align_items": null,
      "align_self": null,
      "border": null,
      "bottom": null,
      "display": null,
      "flex": null,
      "flex_flow": null,
      "grid_area": null,
      "grid_auto_columns": null,
      "grid_auto_flow": null,
      "grid_auto_rows": null,
      "grid_column": null,
      "grid_gap": null,
      "grid_row": null,
      "grid_template_areas": null,
      "grid_template_columns": null,
      "grid_template_rows": null,
      "height": null,
      "justify_content": null,
      "justify_items": null,
      "left": null,
      "margin": null,
      "max_height": null,
      "max_width": null,
      "min_height": null,
      "min_width": null,
      "object_fit": null,
      "object_position": null,
      "order": null,
      "overflow": null,
      "overflow_x": null,
      "overflow_y": null,
      "padding": null,
      "right": null,
      "top": null,
      "visibility": null,
      "width": null
     }
    },
    "fffd7e5bf656434c806b7b38b68d9e52": {
     "model_module": "@jupyter-widgets/controls",
     "model_name": "HBoxModel",
     "state": {
      "_dom_classes": [],
      "_model_module": "@jupyter-widgets/controls",
      "_model_module_version": "1.5.0",
      "_model_name": "HBoxModel",
      "_view_count": null,
      "_view_module": "@jupyter-widgets/controls",
      "_view_module_version": "1.5.0",
      "_view_name": "HBoxView",
      "box_style": "",
      "children": [
       "IPY_MODEL_ade0f52b100d4ac5954fdea323647f00",
       "IPY_MODEL_1b0e93c1de6c461992111f6b73cff470"
      ],
      "layout": "IPY_MODEL_d6a9e52195b04a7293afdc2833c89b1b"
     }
    }
   }
  }
 },
 "nbformat": 4,
 "nbformat_minor": 1
}
