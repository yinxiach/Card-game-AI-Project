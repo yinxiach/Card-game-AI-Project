{
 "cells": [
  {
   "cell_type": "code",
   "execution_count": 1,
   "metadata": {},
   "outputs": [],
   "source": [
    "import torch\n",
    "import torch.nn as nn\n",
    "import torch.nn.functional as F\n",
    "import torch.optim as optim\n",
    "from torch.distributions import Categorical\n",
    "\n",
    "import gym\n",
    "import random\n",
    "from tqdm import tqdm_notebook\n",
    "import numpy as np\n",
    "from collections import deque"
   ]
  },
  {
   "cell_type": "code",
   "execution_count": 2,
   "metadata": {},
   "outputs": [],
   "source": [
    "#discount factor for future utilities\n",
    "γ = 0.99\n",
    "\n",
    "#number of episodes to run\n",
    "NUM_EPISODES = 100\n",
    "\n",
    "#max steps per episode\n",
    "MAX_STEPS = 5000\n",
    "\n",
    "#device to run model on \n",
    "DEVICE = \"cuda\" if torch.cuda.is_available() else \"cpu\"\n",
    "\n",
    "#Lambda weight decay constant\n",
    "λ = 0.3\n",
    "\n",
    "#actor learning rate\n",
    "αu = 0.001\n",
    "\n",
    "#critic/gtd learning rate\n",
    "αv = 0.005\n",
    "αw = 0.001"
   ]
  },
  {
   "cell_type": "code",
   "execution_count": 3,
   "metadata": {},
   "outputs": [],
   "source": [
    "#Stationary behavior policy\n",
    "class BehavioralPolicy():\n",
    "    \n",
    "    #takes in distribution of action space\n",
    "    def __init__(self, distribution):\n",
    "        self.distribution = distribution\n",
    "    \n",
    "    #get probability of action given state\n",
    "    def __call__(self, action, state):\n",
    "        prob = self.distribution[action]\n",
    "        \n",
    "        return prob\n",
    "    \n",
    "    #sample an action under behavior distribution\n",
    "    def choose_action(self, xs):\n",
    "        m = Categorical(self.distribution)\n",
    "        action = m.sample()\n",
    "        \n",
    "        return action.item()"
   ]
  },
  {
   "cell_type": "code",
   "execution_count": 4,
   "metadata": {},
   "outputs": [],
   "source": [
    "#Target policy \n",
    "class TargetPolicy():\n",
    "    \n",
    "    #initialize with policy parameters\n",
    "    def __init__(self, weight_vector):\n",
    "        self.u = weight_vector\n",
    "        \n",
    "    #get probability of action given state\n",
    "    def __call__(self, action, xs):\n",
    "        \n",
    "        #get distribution for current state\n",
    "        distribution = mult(self.u, xs)\n",
    "        \n",
    "        #take softmax of distribution so its a probability [0, 1]\n",
    "        softmax = F.softmax(distribution, dim=0)\n",
    "        \n",
    "        #return probability of action\n",
    "        return softmax[action]\n",
    "    \n",
    "    #sample an action under target policy \n",
    "    def choose_action(self, xs):\n",
    "        \n",
    "        #get distribution\n",
    "        distribution = mult(self.u, xs)\n",
    "        \n",
    "        #take softmax of distribution so its a probability [0, 1]\n",
    "        softmax_dist = F.softmax(distribution, dim=0).squeeze(1)\n",
    "        \n",
    "        #sample action\n",
    "        m = Categorical(softmax_dist)\n",
    "        action = m.sample()\n",
    "\n",
    "        return action.item()\n",
    "        "
   ]
  },
  {
   "cell_type": "code",
   "execution_count": 5,
   "metadata": {},
   "outputs": [],
   "source": [
    "#learned value function\n",
    "class ValueFunction():\n",
    "    \n",
    "    #initialize with value function parameters\n",
    "    def __init__(self, weight_vector):\n",
    "        self.v = weight_vector\n",
    "        \n",
    "    #get value of given state\n",
    "    def __call__(self, xs):\n",
    "        val = mult(self.v, xs)\n",
    "        \n",
    "        return val"
   ]
  },
  {
   "cell_type": "code",
   "execution_count": 6,
   "metadata": {},
   "outputs": [],
   "source": [
    "def mult(weight_vector, feature_vector):\n",
    "    ''' Mulitplies weight vector by feature vector\n",
    "    Args:\n",
    "    - weight_vector (Tensor): vector of weights\n",
    "    - feature_vector (Tensor): vector of features\n",
    "    \n",
    "    Return:\n",
    "    - product (Tensor): product of vectors\n",
    "    \n",
    "    '''\n",
    "    \n",
    "    #Transpose weight vector and multiply by feature vector\n",
    "    product = torch.matmul(torch.transpose(weight_vector, 0, 1), feature_vector)\n",
    "    \n",
    "    #Return product\n",
    "    return product"
   ]
  },
  {
   "cell_type": "code",
   "execution_count": 48,
   "metadata": {},
   "outputs": [],
   "source": [
    "#Make environment\n",
    "env = gym.make('CartPole-v1').env\n",
    "\n",
    "#env attributes\n",
    "obs_space = env.observation_space.shape[0]\n",
    "action_space = env.action_space.n\n",
    "\n",
    "\n",
    "#set seeds\n",
    "np.random.seed(43)\n",
    "random.seed(43)\n",
    "env.seed(43)\n",
    "torch.manual_seed(43)\n",
    "\n",
    "\n",
    "#Init weight vectors, should be matrices of dimensions (input, output)\n",
    "stdv = 1 / np.sqrt(obs_space)\n",
    "u = torch.Tensor(np.random.uniform(low=-stdv, high=stdv, size=(obs_space, action_space))).to(DEVICE)\n",
    "u.requires_grad = True\n",
    "v = torch.Tensor(np.random.uniform(low=-stdv, high=stdv, size=(obs_space, 1))).to(DEVICE)\n",
    "\n",
    "#Init trace vectors, should be same size as weight vectors\n",
    "eu = torch.Tensor(np.zeros((obs_space, action_space))).to(DEVICE)\n",
    "ev = torch.Tensor(np.zeros((obs_space, 1))).to(DEVICE)\n",
    "w = torch.Tensor(np.zeros((obs_space, 1))).to(DEVICE)\n",
    "\n",
    "#Init Behavior function, policy function, value function\n",
    "b = BehavioralPolicy(torch.Tensor(np.full(action_space, 1/action_space)).to(DEVICE))\n",
    "π = TargetPolicy(u)\n",
    "V = ValueFunction(v)\n",
    "\n",
    "\n",
    "#Note that we aren't initializing optimizers because we will be manually doing the update instead so we can use trace"
   ]
  },
  {
   "cell_type": "code",
   "execution_count": 49,
   "metadata": {
    "scrolled": false
   },
   "outputs": [
    {
     "data": {
      "application/vnd.jupyter.widget-view+json": {
       "model_id": "4ac51cb39cd940d1af00bd3b506a9fab",
       "version_major": 2,
       "version_minor": 0
      },
      "text/plain": [
       "HBox(children=(IntProgress(value=0, max=1000), HTML(value='')))"
      ]
     },
     "metadata": {},
     "output_type": "display_data"
    },
    {
     "name": "stdout",
     "output_type": "stream",
     "text": [
      "\n"
     ]
    }
   ],
   "source": [
    "scores = []\n",
    "\n",
    "#iterate through episodes\n",
    "for episode in tqdm_notebook(range(NUM_EPISODES*10)):\n",
    "    \n",
    "    #init variables\n",
    "    state = env.reset()\n",
    "    done = False\n",
    "    score = 0\n",
    "    \n",
    "    #iterate through episode\n",
    "    for step in range(MAX_STEPS):\n",
    "        #env.render()\n",
    "        \n",
    "        #choose action a following b\n",
    "        a = b.choose_action(state)\n",
    "        \n",
    "        #take step with action a \n",
    "        new_state, r, done, _ = env.step(a)\n",
    "        \n",
    "        #track reward\n",
    "        score += r\n",
    "        \n",
    "        #convert states to tensors\n",
    "        xs = torch.from_numpy(state).float().unsqueeze(1).to(DEVICE)\n",
    "        \n",
    "        xs_new = torch.from_numpy(new_state).float().unsqueeze(1).to(DEVICE)\n",
    "        \n",
    "        #calculate TD error\n",
    "        δ = r + γ * mult(V.v, xs) - mult(V.v, xs_new)\n",
    "        \n",
    "        #calculate importance weight\n",
    "        ρ = π(a, xs).item() / b(a, xs).item()\n",
    "        \n",
    "        #GTD(λ) algorithm:\n",
    "        \n",
    "        #update critic trace\n",
    "        ev = ρ * (xs + γ * λ * ev)\n",
    "        \n",
    "        #update critic weight vector\n",
    "        V.v = V.v + αv * (δ * ev - γ * (1-λ) * mult(w, xs) * xs)\n",
    "        \n",
    "        #update critic w trace\n",
    "        w = w + αw * (δ * ev - mult(w, xs) * xs)\n",
    "        \n",
    "        #update actor trace and actor parameters:\n",
    "        \n",
    "        #calculate gradients of π(a|s)\n",
    "        π(a, xs).backward()\n",
    "        \n",
    "        #calculate log probability of π(a|s)\n",
    "        ψ = π.u.grad / π(a, xs)\n",
    "\n",
    "        #update actor trace\n",
    "        eu = ρ * (ψ.detach() + γ * λ * eu.detach())\n",
    "\n",
    "        #update actor weight vector. Here we use detach so π.u is still a leaf tensor\n",
    "        π.u = π.u.detach() + αu * δ * eu.detach()\n",
    "        π.u.requires_grad = True\n",
    "        \n",
    "        if done:\n",
    "            break\n",
    "        \n",
    "        #transition to new state\n",
    "        state = new_state\n",
    "    \n",
    "    #track episode score\n",
    "    scores.append(score)\n",
    "\n",
    "env.close()"
   ]
  },
  {
   "cell_type": "code",
   "execution_count": 50,
   "metadata": {
    "scrolled": true
   },
   "outputs": [
    {
     "data": {
      "image/png": "[encoded data removed]",
      "text/plain": [
       "<Figure size 432x288 with 1 Axes>"
      ]
     },
     "metadata": {},
     "output_type": "display_data"
    }
   ],
   "source": [
    "import matplotlib.pyplot as plt\n",
    "from sklearn.linear_model import LinearRegression\n",
    "import seaborn as sns\n",
    "import numpy as np\n",
    "\n",
    "sns.set()\n",
    "\n",
    "graphed_arr = scores\n",
    "\n",
    "plt.plot(graphed_arr)\n",
    "plt.ylabel('score')\n",
    "plt.xlabel('episodes')\n",
    "plt.title('History of behavior policy of MountainCar with Off-Policy Actor-Critic')\n",
    "\n",
    "reg = LinearRegression().fit(np.arange(len(graphed_arr)).reshape(-1, 1), np.array(graphed_arr).reshape(-1, 1))\n",
    "y_pred = reg.predict(np.arange(len(graphed_arr)).reshape(-1, 1))\n",
    "plt.plot(y_pred)\n",
    "plt.show()"
   ]
  },
  {
   "cell_type": "code",
   "execution_count": 51,
   "metadata": {
    "scrolled": true
   },
   "outputs": [
    {
     "data": {
      "application/vnd.jupyter.widget-view+json": {
       "model_id": "bdcaf99acbb248d8980da810d39012a1",
       "version_major": 2,
       "version_minor": 0
      },
      "text/plain": [
       "HBox(children=(IntProgress(value=0, max=50), HTML(value='')))"
      ]
     },
     "metadata": {},
     "output_type": "display_data"
    },
    {
     "name": "stdout",
     "output_type": "stream",
     "text": [
      "\n"
     ]
    }
   ],
   "source": [
    "done = False\n",
    "state = env.reset()\n",
    "scores = []\n",
    "\n",
    "for _ in tqdm_notebook(range(50)):\n",
    "    state = env.reset()\n",
    "    done = False\n",
    "    score = 0\n",
    "    for _ in range(MAX_STEPS): \n",
    "        #env.render()\n",
    "        xs = torch.from_numpy(state).float().unsqueeze(1).to(DEVICE)\n",
    "        action = π.choose_action(xs)\n",
    "        new_state, reward, done, info = env.step(action)\n",
    "        score += reward\n",
    "        \n",
    "        if done:\n",
    "            break\n",
    "            \n",
    "        state = new_state\n",
    "    scores.append(score)\n",
    "env.close()"
   ]
  },
  {
   "cell_type": "code",
   "execution_count": 52,
   "metadata": {},
   "outputs": [
    {
     "data": {
      "text/plain": [
       "25.78"
      ]
     },
     "execution_count": 52,
     "metadata": {},
     "output_type": "execute_result"
    }
   ],
   "source": [
    "np.array(scores).mean()"
   ]
  },
  {
   "cell_type": "code",
   "execution_count": 33,
   "metadata": {},
   "outputs": [],
   "source": [
    "env.close()"
   ]
  }
 ],
 "metadata": {
  "kernelspec": {
   "display_name": "Python 3",
   "language": "python",
   "name": "python3"
  },
  "language_info": {
   "codemirror_mode": {
    "name": "ipython",
    "version": 3
   },
   "file_extension": ".py",
   "mimetype": "text/x-python",
   "name": "python",
   "nbconvert_exporter": "python",
   "pygments_lexer": "ipython3",
   "version": "3.7.4"
  }
 },
 "nbformat": 4,
 "nbformat_minor": 2
}
