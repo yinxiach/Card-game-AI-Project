{
 "cells": [
  {
   "cell_type": "code",
   "execution_count": 97,
   "metadata": {},
   "outputs": [],
   "source": [
    "import torch\n",
    "import torch.nn as nn\n",
    "import torch.nn.functional as F\n",
    "import torch.optim as optim\n",
    "from torch.distributions import Normal\n",
    "\n",
    "import gym\n",
    "from tqdm import tqdm_notebook\n",
    "import numpy as np\n",
    "from collections import deque\n",
    "import random\n",
    "from copy import deepcopy"
   ]
  },
  {
   "cell_type": "code",
   "execution_count": 98,
   "metadata": {},
   "outputs": [],
   "source": [
    "#class for the Q function\n",
    "class QFunction():\n",
    "    \n",
    "    #takes in set of parameters\n",
    "    def __init__(self, weight_vector):\n",
    "        self.w = weight_vector\n",
    "    \n",
    "    #outputs an action-state value given a state and action\n",
    "    def __call__(self, state, action):\n",
    "        \n",
    "        #action from policy μ\n",
    "        a_pred = μ(state)\n",
    "        \n",
    "        #error between given action and the action from the policy μ\n",
    "        δ = action - a_pred\n",
    "        \n",
    "        #zero the current gradient and take gradient of μ(s)\n",
    "        μ.θ.grad = None\n",
    "        a_pred.backward()\n",
    "        \n",
    "        #state-action feature\n",
    "        ϕ_sa = μ.θ.grad * δ\n",
    "        \n",
    "        #advantage of taking action a instead of the policy's action\n",
    "        Aʷ_sa = mult(ϕ_sa, self.w)\n",
    "        \n",
    "        #q value, advantage + value\n",
    "        q_val = Aʷ_sa + V(state)\n",
    "        \n",
    "        return q_val"
   ]
  },
  {
   "cell_type": "code",
   "execution_count": 99,
   "metadata": {},
   "outputs": [],
   "source": [
    "#class for the deterministic policy\n",
    "class DeterministicPolicy():\n",
    "    \n",
    "    #initialize set of parameters\n",
    "    def __init__(self, weight_vector):\n",
    "        self.θ = weight_vector\n",
    "    \n",
    "    #gets action\n",
    "    def __call__(self, state):\n",
    "        \n",
    "        #linear combination of parameters and state\n",
    "        action = mult(self.θ, state)\n",
    "        \n",
    "        #tanh to constrain action to be in the range of [-1, 1]\n",
    "        action = torch.tanh(action)\n",
    "        \n",
    "        return action"
   ]
  },
  {
   "cell_type": "code",
   "execution_count": 100,
   "metadata": {},
   "outputs": [],
   "source": [
    "#class for value function\n",
    "class ValueFunction():\n",
    "    \n",
    "    #initialize set of parameters\n",
    "    def __init__(self, weight_vector):\n",
    "        self.v = weight_vector\n",
    "    \n",
    "    #get value\n",
    "    def __call__(self, state):\n",
    "        \n",
    "        #linear combination of parameters and state\n",
    "        val = mult(self.v, state)\n",
    "        \n",
    "        return val"
   ]
  },
  {
   "cell_type": "code",
   "execution_count": 101,
   "metadata": {},
   "outputs": [],
   "source": [
    "def mult(weight_vector, feature_vector):\n",
    "    ''' Mulitplies weight vector by feature vector\n",
    "    Args:\n",
    "    - weight_vector (Tensor): vector of weights\n",
    "    - feature_vector (Tensor): vector of features\n",
    "    \n",
    "    Return:\n",
    "    - product (Tensor): product of vectors\n",
    "    \n",
    "    '''\n",
    "    \n",
    "    #Transpose weight vector and multiply by feature vector\n",
    "    product = torch.matmul(torch.transpose(weight_vector, 0, 1), feature_vector)\n",
    "    \n",
    "    #Return product\n",
    "    return product"
   ]
  },
  {
   "cell_type": "code",
   "execution_count": 103,
   "metadata": {},
   "outputs": [],
   "source": [
    "def normalize_state(state, mean, std):\n",
    "    ''' Normalizes state with given mean and standard deviation\n",
    "    Args:\n",
    "    - state (Array): current state\n",
    "    - mean (float): normalizing mean\n",
    "    - std (float): normalizing standard deviation\n",
    "    '''\n",
    "    \n",
    "    #calculate normalized state\n",
    "    normalized = (state - mean) / std\n",
    "    \n",
    "    return normalized"
   ]
  },
  {
   "cell_type": "code",
   "execution_count": 104,
   "metadata": {},
   "outputs": [],
   "source": [
    "def update_parameters(batch, state_mean, state_std):\n",
    "    ''' Update parameters given batch of samples\n",
    "    Args:\n",
    "    - batch (Array): array of samples used to update parameters\n",
    "    - state_mean (float): normalizing mean\n",
    "    - state_std (float): normalizing standard deviation\n",
    "    '''\n",
    "    \n",
    "    #iterate through batch\n",
    "    for item in batch:\n",
    "        \n",
    "        #decompose the item\n",
    "        state, action, new_state, reward, done = item\n",
    "\n",
    "        #normalize states\n",
    "        state = normalize_state(state, state_mean, state_std)\n",
    "        new_state = normalize_state(new_state, state_mean, state_std)\n",
    "\n",
    "        #convert to Tensor\n",
    "        state_tensor = torch.from_numpy(state).float().unsqueeze(1)  \n",
    "        new_state_tensor = torch.from_numpy(new_state).float().unsqueeze(1)\n",
    "\n",
    "        #policy's action\n",
    "        new_action = μ(new_state_tensor)\n",
    "\n",
    "        #td error of Q value \n",
    "        δ = reward + γ * Q(new_state_tensor, new_action) - Q(state_tensor, action)\n",
    "\n",
    "        #calculate θ update\n",
    "        #zero gradients and get gradient of μ(s)\n",
    "        μ.θ.grad = None\n",
    "        μ(state_tensor).backward()\n",
    "\n",
    "        #get jacobian matrix\n",
    "        jacob_matrix = μ.θ.grad\n",
    "\n",
    "        #here we are using the natural gradient instead\n",
    "        #θ_update = jacob_matrix * mult(jacob_matrix, Q.w) \n",
    "        θ_update = Q.w\n",
    "\n",
    "        #calculate w update\n",
    "        #get state-action features\n",
    "        ϕ_sa = (action - μ(state_tensor)) * jacob_matrix\n",
    "        w_update = δ.detach() * ϕ_sa.detach()\n",
    "\n",
    "        #calculate v update\n",
    "        v_update = δ * jacob_matrix\n",
    "\n",
    "        #update parameters\n",
    "        #here we set requires_grad flag to True again since we used detach to create new leaf tensor\n",
    "        μ.θ = μ.θ.detach() + α_θ * θ_update\n",
    "        μ.θ.requires_grad = True\n",
    "\n",
    "        Q.w = Q.w.detach() + αw * w_update\n",
    "        V.v = V.v.detach() + αv * v_update"
   ]
  },
  {
   "cell_type": "code",
   "execution_count": 239,
   "metadata": {},
   "outputs": [],
   "source": [
    "#set float precision point\n",
    "torch.set_printoptions(precision=10)\n",
    "\n",
    "#discount factor\n",
    "γ = 0.99\n",
    "\n",
    "#number of episodes to run\n",
    "NUM_EPISODES = 1\n",
    "\n",
    "#max steps per episode\n",
    "MAX_STEPS = 5000\n",
    "\n",
    "#score agent needs for environment to be solved\n",
    "SOLVED_SCORE = 90\n",
    "\n",
    "#learning rate for policy\n",
    "α_θ = 0.005\n",
    "\n",
    "#learning rate for value function\n",
    "αv = 0.03\n",
    "\n",
    "#learning rate for Q function\n",
    "αw = 0.03\n",
    "\n",
    "#batch size\n",
    "BATCH_SIZE = 8"
   ]
  },
  {
   "cell_type": "code",
   "execution_count": 248,
   "metadata": {
    "scrolled": true
   },
   "outputs": [],
   "source": [
    "#Make environments\n",
    "env = gym.make('MountainCarContinuous-v0').env\n",
    "env2 = deepcopy(env)\n",
    "\n",
    "#environment parameters\n",
    "obs_space = env.observation_space.shape[0]\n",
    "action_space = env.action_space.shape[0]\n",
    "\n",
    "#set seeds\n",
    "np.random.seed(0)\n",
    "random.seed(0)\n",
    "env.seed(0)\n",
    "torch.manual_seed(0)\n",
    "\n",
    "#Init weight vectors, should be matrices of dimensions (input, output)\n",
    "stdv = 1 / np.sqrt(obs_space)\n",
    "θ = torch.Tensor(np.random.uniform(low=-stdv, high=stdv, size=(obs_space, action_space)) * 0.03)\n",
    "θ.requires_grad = True\n",
    "w = torch.Tensor(np.random.uniform(low=-stdv, high=stdv, size=(obs_space, 1)) * 0.03)\n",
    "v = torch.Tensor(np.random.uniform(low=-stdv, high=stdv, size=(obs_space, 1)) * 0.03)\n",
    "\n",
    "#Init network\n",
    "μ = DeterministicPolicy(θ)\n",
    "Q = QFunction(w)\n",
    "V = ValueFunction(v)\n",
    "\n",
    "#samples = np.array(samples)\n",
    "samples = np.array([env.observation_space.sample() for _ in range(10000)])\n",
    "state_mean = np.mean(samples, axis = 0)\n",
    "state_std = np.std(samples, axis= 0) + 1.0e-6"
   ]
  },
  {
   "cell_type": "code",
   "execution_count": 249,
   "metadata": {
    "scrolled": true
   },
   "outputs": [
    {
     "data": {
      "application/vnd.jupyter.widget-view+json": {
       "model_id": "de357d4b5c584cf3a85ac1fc710b82d6",
       "version_major": 2,
       "version_minor": 0
      },
      "text/plain": [
       "HBox(children=(IntProgress(value=0, max=1), HTML(value='')))"
      ]
     },
     "metadata": {},
     "output_type": "display_data"
    },
    {
     "name": "stdout",
     "output_type": "stream",
     "text": [
      "\n"
     ]
    }
   ],
   "source": [
    "#training scores\n",
    "scores = []\n",
    "\n",
    "#policy scores\n",
    "policy_scores = []\n",
    "\n",
    "#count of total updates\n",
    "total_updates = 0\n",
    "\n",
    "#buffer used for experience replay\n",
    "replay_buffer = deque(maxlen=8000)\n",
    "\n",
    "#run episodes\n",
    "for episode in tqdm_notebook(range(NUM_EPISODES)):\n",
    "    \n",
    "    #reset episode state and variables\n",
    "    state = env.reset()\n",
    "    state2 = env2.reset()\n",
    "    \n",
    "    score = 0\n",
    "    score2 = 0\n",
    "    \n",
    "    done = False\n",
    "    done2 = False\n",
    "    \n",
    "    #iterate through episode\n",
    "    for step in range(MAX_STEPS):  \n",
    "        #sample random action from action space\n",
    "        action = env.action_space.sample()[0]\n",
    "        \n",
    "        #step env\n",
    "        new_state, reward, done, _ = env.step([action])\n",
    "\n",
    "        #track score\n",
    "        score += reward\n",
    "        #calculate change in mechanical energy\n",
    "        reward += 100*((np.sin(3*new_state[0]) * 0.0025 + 0.5 * new_state[1] * new_state[1]) - (np.sin(3*state[0]) * 0.0025 + 0.5 * state[1] * state[1]))\n",
    "        \n",
    "        #push item into replay buffer\n",
    "        item = [state, action, new_state, reward, done]\n",
    "        replay_buffer.append(item)\n",
    "        \n",
    "        #every 10 steps, sample batch and update parameters\n",
    "        if step % 10 == 0 and len(replay_buffer) > BATCH_SIZE:\n",
    "            replay = random.sample(replay_buffer, BATCH_SIZE)\n",
    "            update_parameters(replay, state_mean, state_std)\n",
    "            total_updates += 1\n",
    "       \n",
    "        if done:\n",
    "            break\n",
    "        \n",
    "        state = new_state\n",
    "    \n",
    "    #track episode score\n",
    "    scores.append(score)\n",
    "    \n",
    "    #iterate through testing environment, here we test our policy at current episode\n",
    "    for step in range(MAX_STEPS):\n",
    "        #env2.render()\n",
    "        \n",
    "        #normalize state and get action from policy\n",
    "        state2 = normalize_state(state2, state_mean, state_std)\n",
    "        state_tensor2 = torch.from_numpy(state2).float().unsqueeze(1)\n",
    "        action2 = μ(state_tensor2)\n",
    "        \n",
    "        #step env\n",
    "        new_state2, reward2, done2, _ = env2.step([action2.item()])\n",
    "        \n",
    "        #track score\n",
    "        score2 += reward2\n",
    "        \n",
    "        if done2:\n",
    "            break\n",
    "            \n",
    "        state2 = new_state2\n",
    "    \n",
    "    #track score\n",
    "    policy_scores.append(score2)"
   ]
  },
  {
   "cell_type": "code",
   "execution_count": 250,
   "metadata": {
    "scrolled": false
   },
   "outputs": [
    {
     "data": {
      "image/png": "[encoded data removed]",
      "text/plain": [
       "<Figure size 432x288 with 1 Axes>"
      ]
     },
     "metadata": {},
     "output_type": "display_data"
    }
   ],
   "source": [
    "import matplotlib.pyplot as plt\n",
    "from sklearn.linear_model import LinearRegression\n",
    "import seaborn as sns\n",
    "import numpy as np\n",
    "\n",
    "sns.set()\n",
    "\n",
    "plt.plot(scores, color='grey', label='Training score')\n",
    "plt.plot(policy_scores, color='blue', label='Target Policy score')\n",
    "plt.ylabel('score')\n",
    "plt.xlabel('episodes')\n",
    "plt.title('Score history of MountainCarContinuous with COPDAC-Q')\n",
    "plt.legend()\n",
    "\n",
    "reg = LinearRegression().fit(np.arange(len(policy_scores)).reshape(-1, 1), np.array(policy_scores).reshape(-1, 1))\n",
    "y_pred = reg.predict(np.arange(len(policy_scores)).reshape(-1, 1))\n",
    "#plt.plot(y_pred, color='orange')\n",
    "plt.show()"
   ]
  },
  {
   "cell_type": "code",
   "execution_count": 251,
   "metadata": {
    "scrolled": true
   },
   "outputs": [
    {
     "data": {
      "application/vnd.jupyter.widget-view+json": {
       "model_id": "b42e1cfd9b8a4bacadfb94e78e06f7ab",
       "version_major": 2,
       "version_minor": 0
      },
      "text/plain": [
       "HBox(children=(IntProgress(value=0), HTML(value='')))"
      ]
     },
     "metadata": {},
     "output_type": "display_data"
    },
    {
     "name": "stdout",
     "output_type": "stream",
     "text": [
      "\n"
     ]
    }
   ],
   "source": [
    "testing_scores = []\n",
    "\n",
    "for _ in tqdm_notebook(range(100)):\n",
    "    state = env.reset()\n",
    "    done = False\n",
    "    score = 0\n",
    "    for step in range(MAX_STEPS):\n",
    "        #env.render()\n",
    "        state = normalize_state(state, state_mean, state_std)\n",
    "        state_tensor = torch.from_numpy(state).float().unsqueeze(1)\n",
    "        action = μ(state_tensor)\n",
    "        new_state, reward, done, info = env.step([action.item()])\n",
    "        \n",
    "        score += reward\n",
    "        \n",
    "        state = new_state\n",
    "        \n",
    "        if done:\n",
    "            break\n",
    "    testing_scores.append(score)\n",
    "env.close()"
   ]
  },
  {
   "cell_type": "code",
   "execution_count": 252,
   "metadata": {
    "scrolled": true
   },
   "outputs": [
    {
     "data": {
      "text/plain": [
       "98.7038103428186"
      ]
     },
     "execution_count": 252,
     "metadata": {},
     "output_type": "execute_result"
    }
   ],
   "source": [
    "np.array(testing_scores).mean()"
   ]
  },
  {
   "cell_type": "code",
   "execution_count": 253,
   "metadata": {
    "scrolled": true
   },
   "outputs": [
    {
     "data": {
      "text/plain": [
       "0.06571936450200667"
      ]
     },
     "execution_count": 253,
     "metadata": {},
     "output_type": "execute_result"
    }
   ],
   "source": [
    "np.array(testing_scores).var()"
   ]
  },
  {
   "cell_type": "code",
   "execution_count": 244,
   "metadata": {},
   "outputs": [],
   "source": [
    "env.close()"
   ]
  },
  {
   "cell_type": "code",
   "execution_count": null,
   "metadata": {},
   "outputs": [],
   "source": []
  }
 ],
 "metadata": {
  "kernelspec": {
   "display_name": "Python 3",
   "language": "python",
   "name": "python3"
  },
  "language_info": {
   "codemirror_mode": {
    "name": "ipython",
    "version": 3
   },
   "file_extension": ".py",
   "mimetype": "text/x-python",
   "name": "python",
   "nbconvert_exporter": "python",
   "pygments_lexer": "ipython3",
   "version": "3.7.4"
  }
 },
 "nbformat": 4,
 "nbformat_minor": 2
}
