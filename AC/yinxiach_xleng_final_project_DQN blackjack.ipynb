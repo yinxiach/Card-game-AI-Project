{
 "cells": [
  {
   "cell_type": "code",
   "execution_count": 1,
   "id": "ea4ca55d",
   "metadata": {},
   "outputs": [],
   "source": [
    "import torch \n",
    "import torch.nn as nn\n",
    "import torch.nn.functional as F\n",
    "import torch.optim as optim\n",
    "\n",
    "import numpy as np\n",
    "import random \n",
    "\n",
    "from collections import namedtuple, deque \n",
    "\n",
    "import gym\n",
    "from gym import spaces\n",
    "from tqdm.notebook import tqdm\n",
    "\n",
    "import matplotlib.pyplot as plt\n",
    "\n",
    "import time"
   ]
  },
  {
   "cell_type": "code",
   "execution_count": 2,
   "id": "4829a283",
   "metadata": {},
   "outputs": [],
   "source": [
    "# Q_Network frame\n",
    "class QNetwork(nn.Module):\n",
    "\n",
    "    def __init__(self, state_size,action_size, lay1_size=32, lay2_size=64, lay3_size = 128):\n",
    "        super(QNetwork,self).__init__() \n",
    "        self.fc1= nn.Linear(state_size,lay1_size)\n",
    "        self.fc2 = nn.Linear(lay1_size,lay2_size)\n",
    "        self.fc3 = nn.Linear(lay2_size,lay3_size)\n",
    "        self.fc4 = nn.Linear(lay3_size, action_size)\n",
    "        \n",
    "        \n",
    "    def forward(self,x):\n",
    "        x = F.relu(self.fc1(x))\n",
    "        x = F.relu(self.fc2(x))\n",
    "        x = F.relu(self.fc3(x))\n",
    "        return self.fc4(x)"
   ]
  },
  {
   "cell_type": "code",
   "execution_count": 3,
   "id": "98cfca0c",
   "metadata": {},
   "outputs": [],
   "source": [
    "#Replay buffer\n",
    "class ReplayBuffer:\n",
    "\n",
    "    def __init__(self, state_size, pack_size, action_size, buffer_size, batch_size):\n",
    "        self.action_size = action_size\n",
    "        self.batch_size = batch_size\n",
    "        self.buffer_size = buffer_size\n",
    "        self.state_size = state_size\n",
    "        self.pack_size = pack_size\n",
    "        \n",
    "        self.buffer_states = np.zeros((buffer_size, state_size*pack_size))\n",
    "        self.buffer_actions = np.zeros(buffer_size)\n",
    "        self.buffer_rewards = np.zeros(buffer_size)\n",
    "        self.buffer_next_states = np.zeros((buffer_size, state_size*pack_size))\n",
    "        self.buffer_dones = np.zeros(buffer_size)\n",
    "        #self.buffer = np.zeros((buffer_size, 5))\n",
    "\n",
    "        self.len = 0\n",
    "\n",
    "    def append(self,state, action, reward, next_state, done):\n",
    "        #print(f\"\"\"\n",
    "        #    state: {state}\n",
    "        #    action: {action}\n",
    "        #    reward: {reward}\n",
    "        #    next_state: {next_state}\n",
    "        #    done: {done}\n",
    "        #\"\"\")\n",
    "        \n",
    "        self.buffer_states[self.len] = state\n",
    "        self.buffer_actions[self.len] = action\n",
    "        self.buffer_rewards[self.len] = reward\n",
    "        self.buffer_next_states[self.len] = next_state\n",
    "        self.buffer_dones[self.len] = done\n",
    "        \n",
    "        #self.buffer[self.len] = [state, action, reward, next_state, done]\n",
    "        self.len += 1\n",
    "        if self.len >= self.buffer_size:\n",
    "            self.len = 0\n",
    "        \n",
    "    def sample(self):\n",
    "        experiences = np.random.choice(range(self.len),size=self.batch_size,replace = False)\n",
    "        states = np.zeros((self.buffer_size, self.state_size*self.pack_size))\n",
    "        actions = np.zeros(self.batch_size)\n",
    "        rewards = np.zeros(self.batch_size)\n",
    "        next_states = np.zeros((self.buffer_size, self.state_size*self.pack_size))\n",
    "        dones = np.zeros(self.batch_size)\n",
    "        for i in range(self.batch_size):\n",
    "            states[i] = self.buffer_states[experiences[i]]\n",
    "            actions[i] = self.buffer_actions[experiences[i]]\n",
    "            rewards[i] = self.buffer_rewards[experiences[i]]\n",
    "            next_states[i] = self.buffer_next_states[experiences[i]]\n",
    "            dones[i] = self.buffer_dones[experiences[i]]\n",
    "        return states, actions, rewards, next_states, dones\n",
    "    "
   ]
  },
  {
   "cell_type": "code",
   "execution_count": 4,
   "id": "d7e072a9",
   "metadata": {},
   "outputs": [],
   "source": [
    "#general Agent\n",
    "class Agent():\n",
    "    \n",
    "    def __init__(self, state_size, pack_size, action_size, buffer_size, batch_size, gamma, lr, update_step, lay1_size=64, lay2_size=64):\n",
    "        #initalize the agent. Since this is a general agent, I won't specify the environment inside the agent.\n",
    "        #Instead, the informatino will synx from the environment. \n",
    "        #save the parameters\n",
    "        self.state_size = state_size\n",
    "        self.action_size = action_size\n",
    "        self.update_step = update_step\n",
    "        self.batch_size = batch_size\n",
    "        self.gamma = gamma\n",
    "        self.pack_size = pack_size\n",
    "        self.device = torch.device(\"cuda:0\" if torch.cuda.is_available() else \"cpu\")\n",
    "        \n",
    "        #initalize lcoal and target Q-network\n",
    "        self.local = QNetwork(state_size*pack_size, action_size, lay1_size, lay2_size).to(self.device)\n",
    "        self.target = QNetwork(state_size*pack_size, action_size, lay1_size, lay2_size).to(self.device)\n",
    "        \n",
    "        #equal the weights of two networks\n",
    "        for target_param, local_param in zip(self.target.parameters(),self.local.parameters()):\n",
    "            target_param.data.copy_(local_param.data)\n",
    "        \n",
    "        #setup optimizer for local networks. \n",
    "        #The target networks get update from and only from copying parameters from local. so no optimizer for target network. \n",
    "        self.optimizer = optim.Adam(self.local.parameters(),lr=lr)\n",
    "        self.criterion = torch.nn.MSELoss()\n",
    "        \n",
    "        #initalize replay buffer\n",
    "        self.replay_buffer = ReplayBuffer(state_size, pack_size, action_size, buffer_size, batch_size)\n",
    "        \n",
    "        #initalize step count\n",
    "        self.step_count = 0\n",
    "        \n",
    "        \n",
    "    def step(self, state, action, reward, next_state, done):\n",
    "        #update the step informaiton of the environment and check if agent need to update the weights\n",
    "        \n",
    "        #store transition to experience buffer\n",
    "        self.replay_buffer.append(state, action, reward, next_state, done)\n",
    "\n",
    "        self.step_count += 1\n",
    "        \n",
    "        #if there is enough data for sampling minibatch\n",
    "        if self.replay_buffer.len > self.batch_size:\n",
    "            #get the sample\n",
    "            states, actions, rewards, next_states, dones = self.replay_buffer.sample()\n",
    "            #if episode terminates at step j+1\n",
    "            for state, action, reward, next_state, done in zip(states, actions, rewards, next_states, dones):\n",
    "                if done.any() == 1:\n",
    "                    y = rewards\n",
    "            #otherwise    \n",
    "                else:\n",
    "                #evaluate maxa'(Q^(sj+1, a') from target Q-network)\n",
    "                    self.target.eval()\n",
    "                    with torch.no_grad():\n",
    "                        Qps = self.target(torch.from_numpy(next_state).float())\n",
    "                    self.target.train()\n",
    "                    y = np.array([reward + self.gamma * np.max(Qps.cpu().data.numpy())])\n",
    "                    \n",
    "        \n",
    "        #get the orignal expected Q\n",
    "                    Q = self.local(torch.from_numpy(state).float())\n",
    "            \n",
    "                    Y = Q.clone()\n",
    "\n",
    "                    Y[action.astype(int)] = y[0]\n",
    "\n",
    "        #gradient descent\n",
    "                    self.optimizer.zero_grad()\n",
    "                    \n",
    "                    loss = self.criterion(Q, Y).to(self.device)\n",
    "                    #print(loss)\n",
    "                    loss.backward()\n",
    "                    self.optimizer.step()\n",
    "\n",
    "                    return loss.item()\n",
    "                    \n",
    "                    \n",
    "        #every C steps reset Q^ = Q\n",
    "        if self.step_count % self.update_step == 0:\n",
    "                for target_param, local_param in zip(self.target.parameters(), self.local.parameters()):\n",
    "                    target_param.data.copy_(local_param.data)        \n",
    "\n",
    "                \n",
    "                \n",
    "    def action(self, state, epsilon = 0):\n",
    "        #select action upon current epsilon-greedy policy\n",
    "        \n",
    "        self.local.eval()\n",
    "        \n",
    "        with torch.no_grad():\n",
    "            action_values = self.local(torch.from_numpy(state).float())\n",
    "            \n",
    "        self.local.train()\n",
    "\n",
    "        if random.random() > epsilon:\n",
    "            return np.argmax(action_values.cpu().data.numpy())\n",
    "        else:\n",
    "            return np.random.randint(self.action_size)\n",
    "\n"
   ]
  },
  {
   "cell_type": "code",
   "execution_count": 5,
   "id": "3b44a7bb",
   "metadata": {},
   "outputs": [],
   "source": [
    "import rlcard\n",
    "from rlcard.agents import DQNAgent"
   ]
  },
  {
   "cell_type": "code",
   "execution_count": 6,
   "id": "68b6170e",
   "metadata": {},
   "outputs": [],
   "source": [
    "env = rlcard.make(\"blackjack\")"
   ]
  },
  {
   "cell_type": "code",
   "execution_count": 7,
   "id": "bde0cc02",
   "metadata": {},
   "outputs": [
    {
     "data": {
      "application/vnd.jupyter.widget-view+json": {
       "model_id": "2641b3ce89ba457fb28d9919caef2b42",
       "version_major": 2,
       "version_minor": 0
      },
      "text/plain": [
       "  0%|          | 0/1000 [00:00<?, ?it/s]"
      ]
     },
     "metadata": {},
     "output_type": "display_data"
    },
    {
     "data": {
      "text/plain": [
       "Text(0.5, 1.0, 'episode vs. epsilon decay')"
      ]
     },
     "execution_count": 7,
     "metadata": {},
     "output_type": "execute_result"
    },
    {
     "data": {
      "image/png": "[encoded data removed]",
      "text/plain": [
       "<Figure size 432x288 with 1 Axes>"
      ]
     },
     "metadata": {
      "needs_background": "light"
     },
     "output_type": "display_data"
    },
    {
     "data": {
      "image/png": "[encoded data removed]",
      "text/plain": [
       "<Figure size 720x720 with 1 Axes>"
      ]
     },
     "metadata": {
      "needs_background": "light"
     },
     "output_type": "display_data"
    }
   ],
   "source": [
    "#Agent for env 1\n",
    "agent = Agent(state_size=2, pack_size = 1, action_size=2, buffer_size = 5000,\n",
    "                   batch_size=5, gamma = 1, lr = 0.01, update_step = 3)\n",
    "\n",
    "\n",
    "total_rewards = [] \n",
    "E_array = []\n",
    "\n",
    "eps = 1/0.995\n",
    "for i in tqdm(range(1000)):\n",
    "    state, _ = env.reset()\n",
    "    state = state[\"obs\"]\n",
    "    final_reward = 0\n",
    "    final_loss = 0\n",
    "    eps = eps * 0.995\n",
    "    E_array.append(eps)\n",
    "    for t in range(20):\n",
    "        #pick the action a\n",
    "        action = agent.action(state,eps)\n",
    "        \n",
    "        #a execute the action A and ovserve reward r and next state s'\n",
    "        next_state,_ = env.step(action)\n",
    "        next_state = next_state[\"obs\"]\n",
    "        reward = env.get_payoffs()[0]\n",
    "        if next_state[0] > 21 or action == 1:\n",
    "            done = 1\n",
    "        else:\n",
    "            done = 0  \n",
    "\n",
    "        loss = agent.step(state,action,reward,next_state,done)\n",
    "        state = next_state\n",
    "        final_reward += 0.99**t*reward\n",
    "#        final_loss += loss\n",
    "        if done:\n",
    "            break\n",
    "#    final_loss = final_loss/t\n",
    "    total_rewards.append(final_reward) ## sae the most recent score\n",
    "\n",
    "#plt.plot(range(200), total_loss)\n",
    "tr = []\n",
    "for i in range(100):\n",
    "    r = 0\n",
    "    for x in range(10):\n",
    "        r+=total_rewards[i*10+x]\n",
    "    tr.append(r)\n",
    "\n",
    "plt.plot(range(100), tr)\n",
    "plt.title(\"episode vs. total reward\")\n",
    "plt.figure(2,figsize = (10,10))\n",
    "plt.subplot(212)\n",
    "\n",
    "plt.plot(range(1000), E_array)\n",
    "plt.title(\"episode vs. epsilon decay\")\n"
   ]
  },
  {
   "cell_type": "code",
   "execution_count": 8,
   "id": "ea4558c6",
   "metadata": {},
   "outputs": [
    {
     "data": {
      "application/vnd.jupyter.widget-view+json": {
       "model_id": "550aa4560998492aaff6e59ef16ca552",
       "version_major": 2,
       "version_minor": 0
      },
      "text/plain": [
       "  0%|          | 0/100 [00:00<?, ?it/s]"
      ]
     },
     "metadata": {},
     "output_type": "display_data"
    }
   ],
   "source": [
    "total_rewards = [] \n",
    "for i in tqdm(range(100)):\n",
    "    state, _ = env.reset()\n",
    "    state = state[\"obs\"]\n",
    "    final_reward = 0\n",
    "    final_loss = 0\n",
    "    for t in range(20):\n",
    "        #pick the action a\n",
    "        action = agent.action(state,0)\n",
    "        \n",
    "        #a execute the action A and ovserve reward r and next state s'\n",
    "        next_state,_ = env.step(action)\n",
    "        next_state = next_state[\"obs\"]\n",
    "        reward = env.get_payoffs()[0]\n",
    "        if next_state[0] > 21 or action == 1:\n",
    "            done = 1\n",
    "        else:\n",
    "            done = 0  \n",
    "\n",
    "        loss = agent.step(state,action,reward,next_state,done)\n",
    "        state = next_state\n",
    "        final_reward += 0.99**t*reward\n",
    "#        final_loss += loss\n",
    "        if done:\n",
    "            break\n",
    "#    final_loss = final_loss/t\n",
    "    total_rewards.append(final_reward) ## sae the most recent score\n",
    "    "
   ]
  },
  {
   "cell_type": "code",
   "execution_count": 9,
   "id": "cc247b96",
   "metadata": {},
   "outputs": [
    {
     "name": "stdout",
     "output_type": "stream",
     "text": [
      "\n",
      "Win rate: 44%\n",
      "Draw rate: 3%\n",
      "Lose rate: 53%\n",
      "\n"
     ]
    }
   ],
   "source": [
    "win = 0\n",
    "draw = 0\n",
    "lose = 0\n",
    "\n",
    "for i in total_rewards:\n",
    "    if i > 0:\n",
    "        win += 1\n",
    "    elif i == 0:\n",
    "        draw += 1\n",
    "    else:\n",
    "        lose += 1\n",
    "\n",
    "print(f'''\n",
    "Win rate: {win}%\n",
    "Draw rate: {draw}%\n",
    "Lose rate: {lose}%\n",
    "''')"
   ]
  }
 ],
 "metadata": {
  "kernelspec": {
   "display_name": "Python 3 (ipykernel)",
   "language": "python",
   "name": "python3"
  },
  "language_info": {
   "codemirror_mode": {
    "name": "ipython",
    "version": 3
   },
   "file_extension": ".py",
   "mimetype": "text/x-python",
   "name": "python",
   "nbconvert_exporter": "python",
   "pygments_lexer": "ipython3",
   "version": "3.9.12"
  }
 },
 "nbformat": 4,
 "nbformat_minor": 5
}
